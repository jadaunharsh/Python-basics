{
 "cells": [
  {
   "cell_type": "markdown",
   "metadata": {},
   "source": [
    "# Data Types:- We will discuss the data types briefly in this document with detailed explaination.\n",
    "## Note: Please change the words or suggest me if any mistake you see in document. jadaunharsh92@gmail.com"
   ]
  },
  {
   "cell_type": "markdown",
   "metadata": {},
   "source": [
    "#### Data Types are used to convey the type/property of given data, where no need to predefine the data types in Python, Python is dynamically typed language so it indentity the type of data when data input is given."
   ]
  },
  {
   "cell_type": "markdown",
   "metadata": {},
   "source": [
    "#### Some basic data types we have seen in Variable_IO_Operator document, so now here we discuss the following data types, which are very important to learn to move further.\n",
    "#### 1. String: Strings are sequence of characters. Enclosed by \"double quotes\".\n",
    "#### 2. List: List is like an array of heterogenous (String,Int,float,etc,.) data type, we can modify the item of list.\n",
    "#### 3. Tuples: Tuple is like an array of data type, we can not modify the data of tuple.\n",
    "#### 4. Sets: Sets are same as list but set remove duplicates.\n",
    "#### 5. Dictionary: Dictionary is based on keys:values pair.\n"
   ]
  },
  {
   "cell_type": "markdown",
   "metadata": {},
   "source": [
    "## String Data Type:"
   ]
  },
  {
   "cell_type": "raw",
   "metadata": {},
   "source": [
    "String is a data type which is collection of sequenced character. \n",
    "They are represented by 'single quote', \"double quotes\" or '''triple quotes'''. \n",
    "Character data is not available in Python, a single character is a String in Python. \n",
    "String is represented by str.\n",
    "Different types of string representation are following:"
   ]
  },
  {
   "cell_type": "code",
   "execution_count": 6,
   "metadata": {},
   "outputs": [
    {
     "name": "stdout",
     "output_type": "stream",
     "text": [
      "Singal char is also String:  H\n",
      "\n",
      "Single quotes representation:  String with singal quotes.\n",
      "\n",
      "Double quotes representation:  String with double quotes.\n",
      "\n",
      "Tripple quotes representation:  String with tripple quotes.\n",
      "\n",
      "Multi-line String representation:  Hey Harsh,\n",
      "This is multi-line\n",
      "string representation.\n"
     ]
    }
   ],
   "source": [
    "#Singal character as string\n",
    "SingalChar='H'\n",
    "print(\"Singal char is also String: \",SingalChar)\n",
    "type(SingalChar)\n",
    "\n",
    "#String with Singal quotes\n",
    "String1='String with singal quotes.'\n",
    "print(\"\\nSingle quotes representation: \",String1)\n",
    "\n",
    "#String with Double quotes\n",
    "String2=\"String with double quotes.\"\n",
    "print(\"\\nDouble quotes representation: \",String2)\n",
    "\n",
    "#String with tripple quotes(note: tripple quotes '''H''' or \"\"\"H\"\"\" are same.)\n",
    "String3='''String with tripple quotes.'''\n",
    "print(\"\\nTripple quotes representation: \",String3)\n",
    "\n",
    "#String in multiple lines\n",
    "String4='''Hey Harsh,\n",
    "This is multi-line\n",
    "string representation.'''\n",
    "print(\"\\nMulti-line String representation: \",String4)"
   ]
  },
  {
   "cell_type": "raw",
   "metadata": {},
   "source": [
    "String is very useful data type, we can perform many action with this. In last chapter we discussed formatting in print() function so the same action (formatting) can be performed with String.\n",
    "Indexing in Python is start from 0 so we can perform the Indexing with String to access the element.\n",
    "We will perform most of the function to the string with examples:"
   ]
  },
  {
   "cell_type": "code",
   "execution_count": 7,
   "metadata": {},
   "outputs": [
    {
     "name": "stdout",
     "output_type": "stream",
     "text": [
      "String5 is:  Hello Harsh Pratap Singh\n",
      "\n",
      "Length of String5:  24\n",
      "\n",
      "5th element of String5:  o\n",
      "\n",
      "Get the Index of P:  12\n",
      "\n",
      "Index of H:  0\n",
      "\n",
      "Index of Second a:  7\n",
      "Index of Third a:  14\n",
      "\n",
      "Find index of Z:  -1\n"
     ]
    }
   ],
   "source": [
    "# Assign a String to a variable String5\n",
    "String5=\"Hello Harsh Pratap Singh\"\n",
    "print(\"String5 is: \",String5)\n",
    "\n",
    "#To know the length of this String\n",
    "Len=len(String5)\n",
    "print(\"\\nLength of String5: \",Len)\n",
    "\n",
    "#We can Access the Element individually by indexing. Indexinig start from 0, we will access 5th element of string5\n",
    "Individually=String5[4]\n",
    "print(\"\\n5th element of String5: \",Individually)\n",
    "\n",
    "#Knowing the index of character\n",
    "CharIndex1=String5.index('P')     #this always returns the first found of char position.\n",
    "print(\"\\nGet the Index of P: \",CharIndex1)\n",
    "\n",
    "#Knowing the index of character H\n",
    "CharIndex2=String5.index('H')    #found H at first position.\n",
    "print(\"\\nIndex of H: \",CharIndex2)\n",
    "\n",
    "#Knowing the index of Character after or in between a defined index str.index(substr,start of index, end of index)\n",
    "CharIndex3=String5.index('a',5,10)\n",
    "print(\"\\nIndex of Second a: \",CharIndex3)\n",
    "CharIndex4=String5.index('a',10,15)\n",
    "print(\"Index of Third a: \", CharIndex4)\n",
    "\n",
    "#If you want to find the position of a word. Find and index works same, i don't know the major difference in these two.\n",
    "FindIndex=String5.find('Z')    #If find method do not found the input then it return -1\n",
    "print(\"\\nFind index of Z: \",FindIndex)"
   ]
  },
  {
   "cell_type": "code",
   "execution_count": 11,
   "metadata": {},
   "outputs": [
    {
     "name": "stdout",
     "output_type": "stream",
     "text": [
      "\n",
      "Accessing part of String5 from 3 to 5:  llo\n",
      "\n",
      "String with step of 2:  loHrh\n"
     ]
    }
   ],
   "source": [
    "#Part of a string (slicing of string)\n",
    "Slice1=String5[2:5]  #Accessing element from 3 to 5, indexing from 2 to 4\n",
    "print(\"\\nAccessing part of String5 from 3 to 5: \",Slice1)\n",
    "\n",
    "#We can slice the string stepwise\n",
    "Slice2=String5[2:11:2]\n",
    "print(\"\\nString with step of 2: \",Slice2)\n"
   ]
  },
  {
   "cell_type": "markdown",
   "metadata": {},
   "source": [
    "#### Updation is not allowed in String. If you try to delete or assign the character in the string then it will raise an error."
   ]
  },
  {
   "cell_type": "code",
   "execution_count": 2,
   "metadata": {},
   "outputs": [
    {
     "ename": "TypeError",
     "evalue": "'str' object does not support item assignment",
     "output_type": "error",
     "traceback": [
      "\u001b[1;31m---------------------------------------------------------------------------\u001b[0m",
      "\u001b[1;31mTypeError\u001b[0m                                 Traceback (most recent call last)",
      "\u001b[1;32m<ipython-input-2-9c091b00cc98>\u001b[0m in \u001b[0;36m<module>\u001b[1;34m\u001b[0m\n\u001b[0;32m      3\u001b[0m \u001b[1;33m\u001b[0m\u001b[0m\n\u001b[0;32m      4\u001b[0m \u001b[1;31m#Now i try to replace Harsh with Manu\u001b[0m\u001b[1;33m\u001b[0m\u001b[1;33m\u001b[0m\u001b[1;33m\u001b[0m\u001b[0m\n\u001b[1;32m----> 5\u001b[1;33m \u001b[0mString6\u001b[0m\u001b[1;33m[\u001b[0m\u001b[1;36m7\u001b[0m\u001b[1;33m]\u001b[0m\u001b[1;33m=\u001b[0m\u001b[1;34m'M'\u001b[0m\u001b[1;33m\u001b[0m\u001b[1;33m\u001b[0m\u001b[0m\n\u001b[0m",
      "\u001b[1;31mTypeError\u001b[0m: 'str' object does not support item assignment"
     ]
    }
   ],
   "source": [
    "#Here we take another string String6=\"Hi I'm Harsh\"\n",
    "String6=\"Hi I'm Harsh\"\n",
    "\n",
    "#Now i try to replace Harsh with Manu\n",
    "String6[7]='M'"
   ]
  },
  {
   "cell_type": "markdown",
   "metadata": {},
   "source": [
    "#### we can delete the entire string from the variable and can replace to change the input. Some of the example are as follows:"
   ]
  },
  {
   "cell_type": "code",
   "execution_count": 48,
   "metadata": {},
   "outputs": [
    {
     "name": "stdout",
     "output_type": "stream",
     "text": [
      "Hi I'm Harsh\n",
      "Hi I'm Manu\n",
      "Hi i'm harsh\n",
      "                                            Hi I'm Harsh                                            \n",
      "hi i'm harsh\n",
      "2\n",
      "True\n",
      "String6 is having space or not:  False\n",
      "p returns True:  True\n",
      "Deleting entire string\n"
     ]
    },
    {
     "ename": "NameError",
     "evalue": "name 'String8' is not defined",
     "output_type": "error",
     "traceback": [
      "\u001b[1;31m---------------------------------------------------------------------------\u001b[0m",
      "\u001b[1;31mNameError\u001b[0m                                 Traceback (most recent call last)",
      "\u001b[1;32m<ipython-input-48-d5b5cc8974d1>\u001b[0m in \u001b[0;36m<module>\u001b[1;34m\u001b[0m\n\u001b[0;32m     30\u001b[0m \u001b[0mprint\u001b[0m\u001b[1;33m(\u001b[0m\u001b[0mString8\u001b[0m\u001b[1;33m)\u001b[0m\u001b[1;33m\u001b[0m\u001b[1;33m\u001b[0m\u001b[0m\n\u001b[0;32m     31\u001b[0m \u001b[1;32mdel\u001b[0m \u001b[0mString8\u001b[0m\u001b[1;33m\u001b[0m\u001b[1;33m\u001b[0m\u001b[0m\n\u001b[1;32m---> 32\u001b[1;33m \u001b[0mprint\u001b[0m\u001b[1;33m(\u001b[0m\u001b[0mString8\u001b[0m\u001b[1;33m)\u001b[0m \u001b[1;31m#will return an error, String8 is deleted.\u001b[0m\u001b[1;33m\u001b[0m\u001b[1;33m\u001b[0m\u001b[0m\n\u001b[0m\u001b[0;32m     33\u001b[0m \u001b[1;33m\u001b[0m\u001b[0m\n\u001b[0;32m     34\u001b[0m \u001b[1;33m\u001b[0m\u001b[0m\n",
      "\u001b[1;31mNameError\u001b[0m: name 'String8' is not defined"
     ]
    }
   ],
   "source": [
    "#Try to understand these below 4 line carefully\n",
    "String6.replace(\"Harsh\",\"Manu\")    \n",
    "print(String6)\n",
    "String7=String6.replace(\"Harsh\",\"Manu\")\n",
    "print(String7)\n",
    "#########\n",
    "\n",
    "#print capitalize starting letter of a line and make other small\n",
    "print(String6.capitalize())\n",
    "\n",
    "#print in center with some spaces\n",
    "print(String6.center(100))\n",
    "\n",
    "#Return a version of the string suitable for caseless comparisons.\n",
    "print(String6.casefold())\n",
    "\n",
    "#Count the number of given character(String) availability in String\n",
    "print(String6.count('H'))\n",
    "\n",
    "#To check the String end with specified string or not, return boolen values\n",
    "print(String6.endswith('h'))\n",
    "\n",
    "#Return True if the string is a whitespace string, False otherwise.\n",
    "print('String6 is having space or not: ',String6.isspace()) # out is False\n",
    "p=\"      \"  #we define anopther string with spaces\n",
    "print(\"p returns True: \",p.isspace())\n",
    "\n",
    "#We can update/delete entire string but not part of the string.\n",
    "String8=\"Deleting entire string\"\n",
    "print(String8)\n",
    "del String8\n",
    "print(String8) #will return an error, String8 is deleted.\n",
    "\n",
    "\n"
   ]
  },
  {
   "cell_type": "raw",
   "metadata": {},
   "source": [
    "There are some other functions for string, so can check those with help function.\n",
    "help(str)"
   ]
  },
  {
   "cell_type": "markdown",
   "metadata": {},
   "source": [
    "## List Data Type:"
   ]
  },
  {
   "cell_type": "raw",
   "metadata": {},
   "source": [
    "List are just like an array with heterogeneous type, where stores different input. Single list may contain Integer, String, List, Object etc. List are mutable. List is ordered and have definite count.\n",
    "Each element in the list has its definite place in the list, which allows duplicating element in the list, with each element having its own distict place and credibility. List can be created by placing sequence of input inside the square brackets[ ] ."
   ]
  },
  {
   "cell_type": "code",
   "execution_count": 64,
   "metadata": {},
   "outputs": [
    {
     "name": "stdout",
     "output_type": "stream",
     "text": [
      "Empty List:  []\n",
      "****************************************************************************************************\n",
      "List of Integer Type:  [3, 4, 5, 6, 7, 8]\n",
      "****************************************************************************************************\n",
      "List of String type:  ['Harsh', 'Pratap', 'Singh']\n",
      "****************************************************************************************************\n",
      "List of different types of element:  ['Harsh', 3, 56.5, [423, 'HPS', 'MPS'], 'Singh']\n",
      "****************************************************************************************************\n"
     ]
    }
   ],
   "source": [
    "#Creating a blank list\n",
    "Lst=[]\n",
    "print('Empty List: ',Lst)\n",
    "print(100*'*')\n",
    "\n",
    "#Creating List with same element of Integer\n",
    "Lst1=[3,4,5,6,7,8]\n",
    "print('List of Integer Type: ',Lst1)\n",
    "print(100*'*')      #print * 100 tymes to separate the output\n",
    "\n",
    "#Creating List with same element of String\n",
    "Lst2=['Harsh','Pratap','Singh']\n",
    "print('List of String type: ',Lst2)\n",
    "print(100*'*')\n",
    "\n",
    "#Creating List with different types of element\n",
    "Lst3=['Harsh',3,56.5,[423,'HPS','MPS'],\"Singh\"]\n",
    "print('List of different types of element: ',Lst3)\n",
    "print(100*'*')"
   ]
  },
  {
   "cell_type": "code",
   "execution_count": 70,
   "metadata": {},
   "outputs": [
    {
     "name": "stdout",
     "output_type": "stream",
     "text": [
      "Second Element of the List:  Pratap\n",
      "Fourth Element of the List Lst3:  [423, 'HPS', 'MPS']\n",
      "Fetch 'HPS' from list Lst3:  HPS\n"
     ]
    }
   ],
   "source": [
    "#Accessing Element from the list Lst2 index based, this will return second element. Index start from 0.\n",
    "print('Second Element of the List: ',Lst2[1])\n",
    "\n",
    "#Accessing 4 element of the list Lst3 where a list is present.\n",
    "print('Fourth Element of the List Lst3: ',Lst3[3])\n",
    "\n",
    "#We can get the element from the nested list, fetch the 2 element from the 3 element of Lst3, which is 'HPS'\n",
    "print('Fetch \\'HPS\\' from list Lst3: ',Lst3[3][1])"
   ]
  },
  {
   "cell_type": "code",
   "execution_count": 73,
   "metadata": {},
   "outputs": [
    {
     "name": "stdout",
     "output_type": "stream",
     "text": [
      "Lst3 before append 'Sierra':  ['Harsh', 3, 56.5, [423, 'HPS', 'MPS'], 'Singh', 'Sierra', 'Sierra']\n",
      "Lst3 after append 'Sierra':  ['Harsh', 3, 56.5, [423, 'HPS', 'MPS'], 'Singh', 'Sierra', 'Sierra', 'Sierra']\n",
      "Adding List as an Element:  ['Harsh', 3, 56.5, [423, 'HPS', 'MPS'], 'Singh', 'Sierra', 'Sierra', 'Sierra', ['CPI', 'Pune', 'UP']]\n"
     ]
    }
   ],
   "source": [
    "#Adding single element to the list, we use append method, for adding multiple input one by one need to iterate over the loop.\n",
    "print(\"Lst3 before append 'Sierra': \",Lst3)\n",
    "Lst3.append('Sierra')\n",
    "print(\"Lst3 after append 'Sierra': \",Lst3)\n",
    "\n",
    "#Appending List as an element to Lst3\n",
    "Lst3.append(['CPI','Pune','UP'])\n",
    "print(\"Adding List as an Element: \",Lst3)"
   ]
  },
  {
   "cell_type": "code",
   "execution_count": 74,
   "metadata": {},
   "outputs": [
    {
     "name": "stdout",
     "output_type": "stream",
     "text": [
      "Insert 53 at 7th position:  ['Harsh', 3, 56.5, [423, 'HPS', 'MPS'], 'Singh', 'Sierra', 53, 'Sierra', 'Sierra', ['CPI', 'Pune', 'UP']]\n"
     ]
    }
   ],
   "source": [
    "#To add element as an input use the insert method, insert is different from append, insert takes 2 values insert(position,value),, position at which you want to plave the new value.\n",
    "Lst3.insert(6,53)\n",
    "print(\"Insert 53 at 7th position: \",Lst3)"
   ]
  },
  {
   "cell_type": "code",
   "execution_count": 77,
   "metadata": {},
   "outputs": [
    {
     "name": "stdout",
     "output_type": "stream",
     "text": [
      "Adding multiple values at the End of List Lst3:  ['Harsh', 3, 56.5, [423, 'HPS', 'MPS'], 'Singh', 'Sierra', 53, 'Sierra', 'Sierra', ['CPI', 'Pune', 'UP'], 'Dell', 'fig', [2, 6, 'Pal'], 56.43]\n"
     ]
    }
   ],
   "source": [
    "#To add multiple inputs at the end of the list we use extend method.\n",
    "Lst3.extend([\"Dell\",\"fig\",[2,6,'Pal'],56.43])\n",
    "print(\"Adding multiple values at the End of List Lst3: \",Lst3)"
   ]
  },
  {
   "cell_type": "code",
   "execution_count": 78,
   "metadata": {},
   "outputs": [
    {
     "name": "stdout",
     "output_type": "stream",
     "text": [
      "Lst3 before removing 'Sierra':  ['Harsh', 3, 56.5, [423, 'HPS', 'MPS'], 'Singh', 'Sierra', 53, 'Sierra', 'Sierra', ['CPI', 'Pune', 'UP'], 'Dell', 'fig', [2, 6, 'Pal'], 56.43]\n",
      "Lst3 after removing 'Sierra':  ['Harsh', 3, 56.5, [423, 'HPS', 'MPS'], 'Singh', 53, 'Sierra', 'Sierra', ['CPI', 'Pune', 'UP'], 'Dell', 'fig', [2, 6, 'Pal'], 56.43]\n"
     ]
    }
   ],
   "source": [
    "#Removing element from the List using remove() method, this will remove first occurence of element.\n",
    "print(\"Lst3 before removing 'Sierra': \",Lst3)\n",
    "Lst3.remove('Sierra')\n",
    "print(\"Lst3 after removing 'Sierra': \",Lst3)"
   ]
  },
  {
   "cell_type": "code",
   "execution_count": 79,
   "metadata": {},
   "outputs": [
    {
     "name": "stdout",
     "output_type": "stream",
     "text": [
      "Lst3 before deleting:  ['Harsh', 3, 56.5, [423, 'HPS', 'MPS'], 'Singh', 53, 'Sierra', 'Sierra', ['CPI', 'Pune', 'UP'], 'Dell', 'fig', [2, 6, 'Pal'], 56.43]\n",
      "Lst3 after popping element:  ['Harsh', 3, 56.5, [423, 'HPS', 'MPS'], 'Singh', 53, 'Sierra', 'Sierra', ['CPI', 'Pune', 'UP'], 'Dell', 'fig', [2, 6, 'Pal']]\n",
      "After popping element 6 indexed from Lst3:  ['Harsh', 3, 56.5, [423, 'HPS', 'MPS'], 'Singh', 53, 'Sierra', ['CPI', 'Pune', 'UP'], 'Dell', 'fig', [2, 6, 'Pal']]\n"
     ]
    }
   ],
   "source": [
    "#Another method to delete element from the list using pop() method, default this delete last element of the list, if you want to delete specific element then pass the index of the element.\n",
    "print(\"Lst3 before deleting: \",Lst3)\n",
    "Lst3.pop()\n",
    "print(\"Lst3 after popping element: \",Lst3)\n",
    "\n",
    "#deleting from specified position\n",
    "Lst3.pop(6)\n",
    "print(\"After popping element 6 indexed from Lst3: \",Lst3)"
   ]
  },
  {
   "cell_type": "code",
   "execution_count": 113,
   "metadata": {},
   "outputs": [
    {
     "name": "stdout",
     "output_type": "stream",
     "text": [
      "Before sorting List elements:  [4, 65, 84, 24, 6, 9, 8]\n",
      "After sorting List elements:  [4, 6, 8, 9, 24, 65, 84]\n",
      "List is reversed:  [84, 65, 24, 9, 8, 6, 4]\n",
      "Length of the List:  7\n",
      "Max value in the List:  84\n",
      "Min value in the List:  4\n",
      "Sum of the List Lst4:  200\n",
      "Index of 9 in the list:  3\n",
      "List4 is empty:  []\n"
     ]
    }
   ],
   "source": [
    "#Creating a new list Lst4\n",
    "Lst4=[4,65,84,24,6,9,8]\n",
    "print('Before sorting List elements: ',Lst4)\n",
    "\n",
    "#we can sort the item of the list in ascending order using sort() method and assigning to Lst5\n",
    "Lst4.sort()\n",
    "print(\"After sorting List elements: \",Lst4)\n",
    "\n",
    "#To reverse elements of the list use reverse() method.\n",
    "Lst4.reverse()\n",
    "print(\"List is reversed: \",Lst4)\n",
    "\n",
    "#Return the length of the list using len(list) function method\n",
    "print(\"Length of the List: \",len(Lst4))\n",
    "\n",
    "#To get the max value from the list use the max(list) function.\n",
    "print(\"Max value in the List: \",max(Lst4))\n",
    "\n",
    "#To get the min value of the list use the min(list) function.\n",
    "print(\"Min value in the List: \",min(Lst4))\n",
    "\n",
    "#To get the sum of the List use the sum(list) function.\n",
    "print(\"Sum of the List Lst4: \",sum(Lst4))\n",
    "\n",
    "#To knowing the index of a value 9, use the index() method\n",
    "print(\"Index of 9 in the list: \",Lst4.index(9))\n",
    "\n",
    "#clear() method is used to remove all items from the list and returns empty list\n",
    "Lst4.clear()\n",
    "print(\"List4 is empty: \",Lst4)"
   ]
  },
  {
   "cell_type": "markdown",
   "metadata": {},
   "source": [
    "## Tuple Data Types:"
   ]
  },
  {
   "cell_type": "raw",
   "metadata": {},
   "source": [
    "Tuples are like a List except Tuples are immutable and hashable whereas Lists are mutable and not hashable. Tuples also contain heterogeneous elements.\n",
    "Tuples are created placing the values separated by ,(comma) with or without using paranthesis() for grouping of data seqence.\n",
    "Without use of paranthesis() created tuple is called Tuple packaging."
   ]
  },
  {
   "cell_type": "code",
   "execution_count": 114,
   "metadata": {},
   "outputs": [
    {
     "data": {
      "text/plain": [
       "(4, 4, 432, 5, 'fdg', 'Harsh')"
      ]
     },
     "execution_count": 114,
     "metadata": {},
     "output_type": "execute_result"
    }
   ],
   "source": [
    "#Without paranthesis\n",
    "Tup=4,4,432,5,'fdg','Harsh'\n",
    "Tup"
   ]
  },
  {
   "cell_type": "code",
   "execution_count": 115,
   "metadata": {},
   "outputs": [
    {
     "data": {
      "text/plain": [
       "('Harsh', 54, 7, 34.43, [4, 5, 2], 'HPS')"
      ]
     },
     "execution_count": 115,
     "metadata": {},
     "output_type": "execute_result"
    }
   ],
   "source": [
    "#Creating Tuple with paranthesis\n",
    "Tup1=('Harsh',54,7,34.43,[4,5,2],'HPS')\n",
    "Tup1"
   ]
  },
  {
   "cell_type": "code",
   "execution_count": 116,
   "metadata": {},
   "outputs": [
    {
     "name": "stdout",
     "output_type": "stream",
     "text": [
      "Tuple created from list:  (35, 5, 34, 23, 'hps')\n"
     ]
    }
   ],
   "source": [
    "#We can create a tuple from a list\n",
    "Lst5=[35,5,34,23,'hps']\n",
    "Tup2=tuple(Lst5)\n",
    "print(\"Tuple created from list: \",Tup2)"
   ]
  },
  {
   "cell_type": "code",
   "execution_count": 15,
   "metadata": {},
   "outputs": [
    {
     "name": "stdout",
     "output_type": "stream",
     "text": [
      "Tuple using built-in function:  ('H', 'a', 'r', 's', 'h', ' ', 'P', 'r', 'a', 't', 'a', 'p', ' ', 'S', 'i', 'n', 'g', 'h')\n",
      "Accessing 5th element from the string:  h\n",
      "Slicing the Tuple:  ('H', 'a', 'r', 's', 'h')\n",
      "Slicing Element with steps:  ('H', 'r', 'h')\n",
      "Reverse the sliced element of Tuple:  ('h', 'g', 'n', 'i', 'S', ' ', 'p', 'a', 't', 'a', 'r', 'P', ' ', 'h', 's', 'r', 'a', 'H')\n",
      "Nested Tuple:  (32, 43.2, 34, 6, (5, 'HPS', 'Sierra'))\n",
      "Access last element of Tup4:  (5, 'HPS', 'Sierra')\n",
      "Access last of last element:  Sierra\n"
     ]
    }
   ],
   "source": [
    "#Creating tuple with use of built-in function.\n",
    "Tup3=tuple(\"Harsh Pratap Singh\")\n",
    "print(\"Tuple using built-in function: \",Tup3)\n",
    "\n",
    "#Accessing element of tuple\n",
    "print(\"Accessing 5th element from the string: \",Tup3[4])\n",
    "\n",
    "#Slicing the tuples.\n",
    "print(\"Slicing the Tuple: \",Tup3[0:5]) \n",
    "\n",
    "#Slicing the element of tuple with steps of 2\n",
    "print(\"Slicing Element with steps: \",Tup3[0:5:2])\n",
    "\n",
    "#To print in reverse use can use step as -1.\n",
    "print(\"Reverse the sliced element of Tuple: \",Tup3[::-1])\n",
    "\n",
    "#Tuple can have another tuple, Nested tuple contains tuple of tuple.\n",
    "Tup4=(32,43.2,34,6,(5,'HPS','Sierra'))\n",
    "print(\"Nested Tuple: \",Tup4)\n",
    "\n",
    "#Slicing tuple from -ve index\n",
    "print(\"Access last element of Tup4: \",Tup4[-1])\n",
    "\n",
    "#Acceessing last of last element from Tup4\n",
    "print(\"Access last of last element: \",Tup4[-1][-1])"
   ]
  },
  {
   "cell_type": "code",
   "execution_count": 13,
   "metadata": {},
   "outputs": [
    {
     "name": "stdout",
     "output_type": "stream",
     "text": [
      "Tuple concatenation:  (32, 5, 6, 'HPS', 'sps', 42, 56.7, (23, 56, 'Singh'))\n"
     ]
    }
   ],
   "source": [
    "#Concatenation of Tuple is the process to join 2 tuples, and 2nd tuple append its element at the end of original Tuple1, use + sign\n",
    "Tup5=(32,5,6,'HPS')\n",
    "Tup6=('sps',42,56.7,(23,56,'Singh'))\n",
    "print(\"Tuple concatenation: \",Tup5+Tup6)\n",
    "#only same data type can be combined an error will raise if you choose to combine different type, like list with tuple, you can check by changing Tup6 to List"
   ]
  },
  {
   "cell_type": "code",
   "execution_count": 16,
   "metadata": {},
   "outputs": [
    {
     "ename": "NameError",
     "evalue": "name 'Tup6' is not defined",
     "output_type": "error",
     "traceback": [
      "\u001b[1;31m---------------------------------------------------------------------------\u001b[0m",
      "\u001b[1;31mNameError\u001b[0m                                 Traceback (most recent call last)",
      "\u001b[1;32m<ipython-input-16-6e2e0fbfb6fa>\u001b[0m in \u001b[0;36m<module>\u001b[1;34m\u001b[0m\n\u001b[0;32m      1\u001b[0m \u001b[1;31m#Tuples are immutable so they do not allow deletion part of tuple, it deletes entire tuple using del() function.\u001b[0m\u001b[1;33m\u001b[0m\u001b[1;33m\u001b[0m\u001b[1;33m\u001b[0m\u001b[0m\n\u001b[0;32m      2\u001b[0m \u001b[1;32mdel\u001b[0m\u001b[1;33m(\u001b[0m\u001b[0mTup6\u001b[0m\u001b[1;33m)\u001b[0m\u001b[1;33m\u001b[0m\u001b[1;33m\u001b[0m\u001b[0m\n\u001b[1;32m----> 3\u001b[1;33m \u001b[0mprint\u001b[0m\u001b[1;33m(\u001b[0m\u001b[1;34m\"Tup6 is no more: \"\u001b[0m\u001b[1;33m,\u001b[0m\u001b[0mTup6\u001b[0m\u001b[1;33m)\u001b[0m\u001b[1;33m\u001b[0m\u001b[1;33m\u001b[0m\u001b[0m\n\u001b[0m",
      "\u001b[1;31mNameError\u001b[0m: name 'Tup6' is not defined"
     ]
    }
   ],
   "source": [
    "#Tuples are immutable so they do not allow deletion part of tuple, it deletes entire tuple using del() function.\n",
    "del(Tup6)\n",
    "print(\"Tup6 is no more: \",Tup6)"
   ]
  },
  {
   "cell_type": "code",
   "execution_count": 23,
   "metadata": {},
   "outputs": [
    {
     "name": "stdout",
     "output_type": "stream",
     "text": [
      "Value 3 present in tuple:  6  times\n"
     ]
    }
   ],
   "source": [
    "#Count the value present in the tuple\n",
    "Tup6=(3,3,3,3,5,843,23,5,3,3,2,6,)\n",
    "print('Value 3 present in tuple: ',Tup6.count(3),' times')"
   ]
  },
  {
   "cell_type": "code",
   "execution_count": 29,
   "metadata": {},
   "outputs": [
    {
     "name": "stdout",
     "output_type": "stream",
     "text": [
      "Index of value 3:  0\n",
      "Index of value 3 after 4th index:  8\n"
     ]
    }
   ],
   "source": [
    "#Getting the index of the input value from starting to ending position\n",
    "print(\"Index of value 3: \",Tup6.index(3))   #default return first found index\n",
    "print(\"Index of value 3 after 4th index: \",Tup6.index(3,4,)) #return the position when found first after defined 4th position."
   ]
  },
  {
   "cell_type": "code",
   "execution_count": null,
   "metadata": {},
   "outputs": [],
   "source": []
  },
  {
   "cell_type": "markdown",
   "metadata": {},
   "source": [
    "## Sets Data Types:"
   ]
  },
  {
   "cell_type": "raw",
   "metadata": {},
   "source": [
    "Set is an unoredered collection of data type that is iterable.\n",
    "Set consists unique elements and mutable, this is mostly used to get unique elements.\n",
    "Set can be created using built-in function set() or a collection of sequences with ,(comma) separated placing inside the curly braces\n",
    "Set can have heterogeneous data type, not need to be same.\n",
    "You don't need to bother about to put the unique element, you can pass multiple duplicate elements and set returns you the unique elements."
   ]
  },
  {
   "cell_type": "code",
   "execution_count": 1,
   "metadata": {},
   "outputs": [
    {
     "data": {
      "text/plain": [
       "set()"
      ]
     },
     "execution_count": 1,
     "metadata": {},
     "output_type": "execute_result"
    }
   ],
   "source": [
    "#Creating blank set\n",
    "Set1=set()\n",
    "Set1"
   ]
  },
  {
   "cell_type": "code",
   "execution_count": 3,
   "metadata": {},
   "outputs": [
    {
     "data": {
      "text/plain": [
       "{3, 32, 5, 5.3, 'HPS', 'Sierra'}"
      ]
     },
     "execution_count": 3,
     "metadata": {},
     "output_type": "execute_result"
    }
   ],
   "source": [
    "#Now we create the set using built-in function with placing some elements insite it.\n",
    "Set2=set([\"HPS\",32,5.3,\"HPS\",5,5,3,5,\"Sierra\",'Sierra'])\n",
    "Set2  #returns unique elements"
   ]
  },
  {
   "cell_type": "code",
   "execution_count": 4,
   "metadata": {},
   "outputs": [
    {
     "data": {
      "text/plain": [
       "{' ',\n",
       " ',',\n",
       " '.',\n",
       " 'H',\n",
       " 'P',\n",
       " 'T',\n",
       " 'a',\n",
       " 'c',\n",
       " 'h',\n",
       " 'i',\n",
       " 'l',\n",
       " 'n',\n",
       " 'o',\n",
       " 's',\n",
       " 't',\n",
       " 'y'}"
      ]
     },
     "execution_count": 4,
     "metadata": {},
     "output_type": "execute_result"
    }
   ],
   "source": [
    "#set using string\n",
    "StringSet=set(\"Hi, This is Python class.\")\n",
    "StringSet"
   ]
  },
  {
   "cell_type": "code",
   "execution_count": 6,
   "metadata": {},
   "outputs": [
    {
     "data": {
      "text/plain": [
       "{2, 3, 54, 6, 'HPS', 'Singh'}"
      ]
     },
     "execution_count": 6,
     "metadata": {},
     "output_type": "execute_result"
    }
   ],
   "source": [
    "#creating set using curly braces\n",
    "CurlySet={3,54,6,2,3,3,'HPS',\"Singh\",\"HPS\"}\n",
    "CurlySet"
   ]
  },
  {
   "cell_type": "code",
   "execution_count": 12,
   "metadata": {},
   "outputs": [
    {
     "data": {
      "text/plain": [
       "{('HPS', 'Sierra', 'CPI', 2, 5, 10), 2, 3, 54, 6, 'HPS', 'Singh'}"
      ]
     },
     "execution_count": 12,
     "metadata": {},
     "output_type": "execute_result"
    }
   ],
   "source": [
    "#We can add the elements to the set but this will add only one element\n",
    "CurlySet.add(('HPS',\"Sierra\",'CPI',2,5,10))\n",
    "CurlySet"
   ]
  },
  {
   "cell_type": "code",
   "execution_count": 13,
   "metadata": {},
   "outputs": [
    {
     "data": {
      "text/plain": [
       "{2, 3, 54, 6, 'HPS', 'Singh'}"
      ]
     },
     "execution_count": 13,
     "metadata": {},
     "output_type": "execute_result"
    }
   ],
   "source": [
    "'''To remove elements from the set there are 2 methods: remove() and discard(),\n",
    " remove() will raise and error if key does not exist\n",
    " discard() does not raise error if element does not exist'''\n",
    "\n",
    "CurlySet.remove(('HPS',\"Sierra\",'CPI',2,5,10))\n",
    "CurlySet"
   ]
  },
  {
   "cell_type": "code",
   "execution_count": 14,
   "metadata": {},
   "outputs": [
    {
     "data": {
      "text/plain": [
       "{2, 3, 54, 6, 'HPS', 'Singh'}"
      ]
     },
     "execution_count": 14,
     "metadata": {},
     "output_type": "execute_result"
    }
   ],
   "source": [
    "#Here we use discard() to check this.\n",
    "CurlySet.discard(('HPS',\"Sierra\",'CPI',2,5,10)) #To check if it raise an error or not\n",
    "CurlySet"
   ]
  },
  {
   "cell_type": "code",
   "execution_count": 16,
   "metadata": {},
   "outputs": [
    {
     "data": {
      "text/plain": [
       "{2, 3, 54, 6, 'HPS'}"
      ]
     },
     "execution_count": 16,
     "metadata": {},
     "output_type": "execute_result"
    }
   ],
   "source": [
    "#Now we check discard() method to get the expected result.\n",
    "CurlySet.discard(\"Singh\")\n",
    "CurlySet"
   ]
  },
  {
   "cell_type": "code",
   "execution_count": 17,
   "metadata": {},
   "outputs": [
    {
     "data": {
      "text/plain": [
       "{2, 3, 54, 6, 'Geeks', 'HPS', 'Harsh'}"
      ]
     },
     "execution_count": 17,
     "metadata": {},
     "output_type": "execute_result"
    }
   ],
   "source": [
    "#To add multiple elements to the set need to use update() method, this will accept list, tuple, string and as well as set to its arguments.\n",
    "CurlySet.update({\"Harsh\",\"Geeks\",2,2,\"Harsh\"}) #adding set to the set\n",
    "CurlySet"
   ]
  },
  {
   "cell_type": "code",
   "execution_count": 18,
   "metadata": {},
   "outputs": [
    {
     "data": {
      "text/plain": [
       "{2, 3, 42, 54, 6, 'CPI', 'Geeks', 'HPS', 'Harsh', 'Sierra'}"
      ]
     },
     "execution_count": 18,
     "metadata": {},
     "output_type": "execute_result"
    }
   ],
   "source": [
    "#updating list to the set\n",
    "CurlySet.update([\"Sierra\",42,42,\"CPI\"])\n",
    "CurlySet"
   ]
  },
  {
   "cell_type": "code",
   "execution_count": 19,
   "metadata": {},
   "outputs": [
    {
     "data": {
      "text/plain": [
       "{2, 3, 42, 54, 6, 'CPI', 'Geeks', 'HPS', 'Harsh', 'Pratap', 'Sierra', 'Singh'}"
      ]
     },
     "execution_count": 19,
     "metadata": {},
     "output_type": "execute_result"
    }
   ],
   "source": [
    "#adding tuple elements to the set\n",
    "CurlySet.update((\"Harsh\",'Pratap','Singh'))\n",
    "CurlySet"
   ]
  },
  {
   "cell_type": "markdown",
   "metadata": {},
   "source": [
    "#### We can not access the element of set because sets are unordered the itms and has no index."
   ]
  },
  {
   "cell_type": "code",
   "execution_count": 20,
   "metadata": {},
   "outputs": [
    {
     "data": {
      "text/plain": [
       "{3, 42, 54, 6, 'CPI', 'Geeks', 'HPS', 'Harsh', 'Pratap', 'Sierra', 'Singh'}"
      ]
     },
     "execution_count": 20,
     "metadata": {},
     "output_type": "execute_result"
    }
   ],
   "source": [
    "#There is another method to remove the element from the set: pop() but it takes last value from the set so no way to determine which value will be deleted.\n",
    "CurlySet.pop()\n",
    "CurlySet"
   ]
  },
  {
   "cell_type": "code",
   "execution_count": 21,
   "metadata": {},
   "outputs": [
    {
     "data": {
      "text/plain": [
       "{42, 54, 6, 'CPI', 'Geeks', 'HPS', 'Harsh', 'Pratap', 'Sierra', 'Singh'}"
      ]
     },
     "execution_count": 21,
     "metadata": {},
     "output_type": "execute_result"
    }
   ],
   "source": [
    "CurlySet.pop() #trying again to get which side value is deleted\n",
    "CurlySet"
   ]
  },
  {
   "cell_type": "code",
   "execution_count": 22,
   "metadata": {},
   "outputs": [
    {
     "data": {
      "text/plain": [
       "{42, 54, 6, 'CPI', 'Geeks', 'HPS', 'Harsh', 'Pratap', 'Sierra', 'Singh'}"
      ]
     },
     "execution_count": 22,
     "metadata": {},
     "output_type": "execute_result"
    }
   ],
   "source": [
    "#We can copy the set to create another set to use\n",
    "CopyCurlySet=CurlySet.copy()\n",
    "CopyCurlySet"
   ]
  },
  {
   "cell_type": "code",
   "execution_count": 23,
   "metadata": {},
   "outputs": [
    {
     "data": {
      "text/plain": [
       "{42,\n",
       " 54,\n",
       " 6,\n",
       " 'CPI',\n",
       " 'Geeks',\n",
       " 'HPS',\n",
       " 'Harsh',\n",
       " 'Madhav',\n",
       " 'Manu',\n",
       " 'Pratap',\n",
       " 'Sierra',\n",
       " 'Singh'}"
      ]
     },
     "execution_count": 23,
     "metadata": {},
     "output_type": "execute_result"
    }
   ],
   "source": [
    "#We update in CopyCurlySet and this should not reflect to CurlySet\n",
    "CopyCurlySet.update(('Harsh','Manu','Madhav'))\n",
    "CopyCurlySet"
   ]
  },
  {
   "cell_type": "code",
   "execution_count": 24,
   "metadata": {},
   "outputs": [
    {
     "data": {
      "text/plain": [
       "{42, 54, 6, 'CPI', 'Geeks', 'HPS', 'Harsh', 'Pratap', 'Sierra', 'Singh'}"
      ]
     },
     "execution_count": 24,
     "metadata": {},
     "output_type": "execute_result"
    }
   ],
   "source": [
    "CurlySet #Compare this output with CopyCurlySet"
   ]
  },
  {
   "cell_type": "code",
   "execution_count": 25,
   "metadata": {},
   "outputs": [
    {
     "data": {
      "text/plain": [
       "set()"
      ]
     },
     "execution_count": 25,
     "metadata": {},
     "output_type": "execute_result"
    }
   ],
   "source": [
    "#clear() method is used to clear all the set.\n",
    "CopyCurlySet.clear()\n",
    "CopyCurlySet"
   ]
  },
  {
   "cell_type": "markdown",
   "metadata": {},
   "source": [
    "##### Frozen Sets in Python are immutable objects that only support method and operators that produce a result without affecting the frozen set or sets to which they are applied. While elements of set can be modified at any time, elements of the frozen set remain the same after creation."
   ]
  },
  {
   "cell_type": "code",
   "execution_count": 28,
   "metadata": {},
   "outputs": [
    {
     "data": {
      "text/plain": [
       "{1, 2, 3, 4, 5, 7, 9, 'HPS', 'Singh'}"
      ]
     },
     "execution_count": 28,
     "metadata": {},
     "output_type": "execute_result"
    }
   ],
   "source": [
    "#Union of set can be perform, it gives the combine output\n",
    "SetU1={'HPS',3,5,2,9,4}\n",
    "SetU2={'Singh',3,5,7,1}\n",
    "SetU1.union(SetU2)"
   ]
  },
  {
   "cell_type": "code",
   "execution_count": 29,
   "metadata": {},
   "outputs": [
    {
     "data": {
      "text/plain": [
       "{3, 5}"
      ]
     },
     "execution_count": 29,
     "metadata": {},
     "output_type": "execute_result"
    }
   ],
   "source": [
    "#Intersection of set returns the elements present in both set\n",
    "SetU1.intersection(SetU2)"
   ]
  },
  {
   "cell_type": "code",
   "execution_count": 30,
   "metadata": {},
   "outputs": [
    {
     "data": {
      "text/plain": [
       "{2, 4, 9, 'HPS'}"
      ]
     },
     "execution_count": 30,
     "metadata": {},
     "output_type": "execute_result"
    }
   ],
   "source": [
    "#difference returns SetU1 element by removing those element which are present in SetU2\n",
    "SetU1.difference(SetU2)"
   ]
  },
  {
   "cell_type": "code",
   "execution_count": 33,
   "metadata": {},
   "outputs": [
    {
     "data": {
      "text/plain": [
       "{2, 4, 9, 'HPS'}"
      ]
     },
     "execution_count": 33,
     "metadata": {},
     "output_type": "execute_result"
    }
   ],
   "source": [
    "#difference_update update the SetU1 after removing SetU2 element\n",
    "SetU1.difference_update(SetU2)\n",
    "SetU1"
   ]
  },
  {
   "cell_type": "code",
   "execution_count": 35,
   "metadata": {},
   "outputs": [
    {
     "data": {
      "text/plain": [
       "{3, 5}"
      ]
     },
     "execution_count": 35,
     "metadata": {},
     "output_type": "execute_result"
    }
   ],
   "source": [
    "#intersection_update update existing SetU1 with intesection method\n",
    "SetU1={'HPS',3,5,2,9,4}\n",
    "SetU2={'Singh',3,5,7,1}\n",
    "SetU1.intersection_update(SetU2)\n",
    "SetU1"
   ]
  },
  {
   "cell_type": "code",
   "execution_count": 38,
   "metadata": {},
   "outputs": [
    {
     "data": {
      "text/plain": [
       "True"
      ]
     },
     "execution_count": 38,
     "metadata": {},
     "output_type": "execute_result"
    }
   ],
   "source": [
    "#issubset method return boolean values True and False, it checks subset of set\n",
    "SetIs1={3,4,5,6,7,8}\n",
    "SetIs2={3,4,5}\n",
    "SetIs2.issubset(SetIs1)"
   ]
  },
  {
   "cell_type": "code",
   "execution_count": 40,
   "metadata": {},
   "outputs": [
    {
     "data": {
      "text/plain": [
       "True"
      ]
     },
     "execution_count": 40,
     "metadata": {},
     "output_type": "execute_result"
    }
   ],
   "source": [
    "#issuperset checks that all elements of SetIs2 present in SetIs1 or not\n",
    "SetIs1.issuperset(SetIs2)"
   ]
  },
  {
   "cell_type": "code",
   "execution_count": 42,
   "metadata": {},
   "outputs": [
    {
     "data": {
      "text/plain": [
       "False"
      ]
     },
     "execution_count": 42,
     "metadata": {},
     "output_type": "execute_result"
    }
   ],
   "source": [
    "#isdisjoint returns True if no element match, if any element matches then it returns False\n",
    "SetIs1.isdisjoint(SetIs2)"
   ]
  },
  {
   "cell_type": "code",
   "execution_count": 44,
   "metadata": {},
   "outputs": [
    {
     "data": {
      "text/plain": [
       "{6, 7, 8}"
      ]
     },
     "execution_count": 44,
     "metadata": {},
     "output_type": "execute_result"
    }
   ],
   "source": [
    "#symmetric_difference returns other elements who do not match in SetIs2\n",
    "SetIs1.symmetric_difference(SetIs2)"
   ]
  },
  {
   "cell_type": "code",
   "execution_count": 45,
   "metadata": {},
   "outputs": [
    {
     "data": {
      "text/plain": [
       "{6, 7, 8}"
      ]
     },
     "execution_count": 45,
     "metadata": {},
     "output_type": "execute_result"
    }
   ],
   "source": [
    "#symmetric_difference_update returns updated SetIs1 after removing those elements of SetIs2\n",
    "SetIs1.symmetric_difference_update(SetIs2)\n",
    "SetIs1"
   ]
  },
  {
   "cell_type": "markdown",
   "metadata": {},
   "source": [
    "## Dictionary Data Types:"
   ]
  },
  {
   "cell_type": "raw",
   "metadata": {},
   "source": [
    "Dictionary in Python is an unordered collection of data values.\n",
    "Dictionary holds the data as key:Value pair format.\n",
    "Every key and their value pair separated by : and every element is comma(,) sepaarated.\n",
    "Key in dictionary must be unique and of immutable data type such as string, integer and tuple.\n",
    "Values in dictionary can have any datatype and can have duplicate elements.\n",
    "Dictionary can be created using by putting some key:value pairs inside the {} curly braces or also using built-in function dict() can be use to create dictionary."
   ]
  },
  {
   "cell_type": "code",
   "execution_count": 1,
   "metadata": {},
   "outputs": [
    {
     "data": {
      "text/plain": [
       "{}"
      ]
     },
     "execution_count": 1,
     "metadata": {},
     "output_type": "execute_result"
    }
   ],
   "source": [
    "#Creating empty dictionary.\n",
    "Dict1={}\n",
    "Dict1"
   ]
  },
  {
   "cell_type": "code",
   "execution_count": 2,
   "metadata": {},
   "outputs": [
    {
     "data": {
      "text/plain": [
       "{}"
      ]
     },
     "execution_count": 2,
     "metadata": {},
     "output_type": "execute_result"
    }
   ],
   "source": [
    "#Another way to create a dictionary.\n",
    "Dict2=dict()\n",
    "Dict2"
   ]
  },
  {
   "cell_type": "code",
   "execution_count": 3,
   "metadata": {},
   "outputs": [
    {
     "data": {
      "text/plain": [
       "{'Name': 'Harsh', 'Age': 24, 3: 'Three'}"
      ]
     },
     "execution_count": 3,
     "metadata": {},
     "output_type": "execute_result"
    }
   ],
   "source": [
    "#Creating dictionary with putting some values.\n",
    "Dict1={'Name':'Harsh','Age':24,3:'Three'}\n",
    "Dict1"
   ]
  },
  {
   "cell_type": "code",
   "execution_count": 9,
   "metadata": {},
   "outputs": [
    {
     "data": {
      "text/plain": [
       "{1: 'Harsh', 2: ['HPS', 24, 'CPI']}"
      ]
     },
     "execution_count": 9,
     "metadata": {},
     "output_type": "execute_result"
    }
   ],
   "source": [
    "#creating dictionary of elements using dict() \n",
    "Dict2=dict([(1,'Harsh'),(2,['HPS',24,'CPI'])])   #remember dict() will accept only one argument as input so i used [].\n",
    "Dict2"
   ]
  },
  {
   "cell_type": "code",
   "execution_count": 10,
   "metadata": {},
   "outputs": [
    {
     "data": {
      "text/plain": [
       "{'Name': 'Harsh',\n",
       " 'Age': 24,\n",
       " 'Address': {'Permanemt': 'Kanau, Hasayan, Hathras',\n",
       "  'Local': 'Sector-1 IMT Manesar'}}"
      ]
     },
     "execution_count": 10,
     "metadata": {},
     "output_type": "execute_result"
    }
   ],
   "source": [
    "#Dictionary also can be nested\n",
    "NestDict={'Name':'Harsh','Age':24,'Address':{'Permanemt':'Kanau, Hasayan, Hathras','Local':'Sector-1 IMT Manesar'}}\n",
    "NestDict"
   ]
  },
  {
   "cell_type": "code",
   "execution_count": 12,
   "metadata": {},
   "outputs": [
    {
     "data": {
      "text/plain": [
       "'Harsh'"
      ]
     },
     "execution_count": 12,
     "metadata": {},
     "output_type": "execute_result"
    }
   ],
   "source": [
    "#Accessing the element using key\n",
    "Dict1['Name']"
   ]
  },
  {
   "cell_type": "code",
   "execution_count": 17,
   "metadata": {},
   "outputs": [
    {
     "data": {
      "text/plain": [
       "24"
      ]
     },
     "execution_count": 17,
     "metadata": {},
     "output_type": "execute_result"
    }
   ],
   "source": [
    "#get is method to access the value for a key.\n",
    "Dict1.get('Age')"
   ]
  },
  {
   "cell_type": "code",
   "execution_count": 18,
   "metadata": {},
   "outputs": [
    {
     "data": {
      "text/plain": [
       "dict_keys(['Name', 'Age', 3])"
      ]
     },
     "execution_count": 18,
     "metadata": {},
     "output_type": "execute_result"
    }
   ],
   "source": [
    "#keys() method returns all keys of the dictionary\n",
    "Dict1.keys()"
   ]
  },
  {
   "cell_type": "code",
   "execution_count": 19,
   "metadata": {},
   "outputs": [
    {
     "data": {
      "text/plain": [
       "dict_values(['Harsh', 24, 'Three'])"
      ]
     },
     "execution_count": 19,
     "metadata": {},
     "output_type": "execute_result"
    }
   ],
   "source": [
    "#values() method returns all values of the dictionary\n",
    "Dict1.values()"
   ]
  },
  {
   "cell_type": "code",
   "execution_count": 22,
   "metadata": {},
   "outputs": [
    {
     "data": {
      "text/plain": [
       "dict_items([('Name', 'Harsh'), ('Age', 24), (3, 'Three')])"
      ]
     },
     "execution_count": 22,
     "metadata": {},
     "output_type": "execute_result"
    }
   ],
   "source": [
    "#items() method returns a view on dictionary's items\n",
    "Dict1.items()"
   ]
  },
  {
   "cell_type": "code",
   "execution_count": 24,
   "metadata": {},
   "outputs": [
    {
     "data": {
      "text/plain": [
       "{'Name': 'Harsh', 'Age': 24, 3: 'Three'}"
      ]
     },
     "execution_count": 24,
     "metadata": {},
     "output_type": "execute_result"
    }
   ],
   "source": [
    "#copy() method returns a copy of original dictionary and you can perform activity without disturbing the original dictionary.\n",
    "CopyDict=Dict1.copy()\n",
    "CopyDict"
   ]
  },
  {
   "cell_type": "code",
   "execution_count": 35,
   "metadata": {},
   "outputs": [
    {
     "data": {
      "text/plain": [
       "{'N': ['Test1', 'Test2', 'Test3'],\n",
       " 'a': ['Test1', 'Test2', 'Test3'],\n",
       " 'm': ['Test1', 'Test2', 'Test3'],\n",
       " 'e': ['Test1', 'Test2', 'Test3']}"
      ]
     },
     "execution_count": 35,
     "metadata": {},
     "output_type": "execute_result"
    }
   ],
   "source": [
    "'''fromkeys() method used to generate a new dict with new defined sequence to a new or given keyword,\n",
    "Sometimes there is a need to generate a dictionary from the given keys.'''\n",
    "\n",
    "New=['Test1','Test2','Test3']\n",
    "CopyDict.fromkeys('Name',New)"
   ]
  },
  {
   "cell_type": "code",
   "execution_count": 36,
   "metadata": {},
   "outputs": [
    {
     "data": {
      "text/plain": [
       "{'Name': 'Harsh', 'Age': 24, 3: 'Three'}"
      ]
     },
     "execution_count": 36,
     "metadata": {},
     "output_type": "execute_result"
    }
   ],
   "source": [
    "CopyDict"
   ]
  },
  {
   "cell_type": "code",
   "execution_count": 39,
   "metadata": {},
   "outputs": [
    {
     "data": {
      "text/plain": [
       "23"
      ]
     },
     "execution_count": 39,
     "metadata": {},
     "output_type": "execute_result"
    }
   ],
   "source": [
    "#setdefault() method used to define the default value\n",
    "CopyDict.setdefault('Default',23)"
   ]
  },
  {
   "cell_type": "code",
   "execution_count": 45,
   "metadata": {},
   "outputs": [
    {
     "data": {
      "text/plain": [
       "24"
      ]
     },
     "execution_count": 45,
     "metadata": {},
     "output_type": "execute_result"
    }
   ],
   "source": [
    "#We also can define the default value from existing elements, we can use this as if key is in dictionary then return its value else return the default.\n",
    "Dict1.setdefault('Age')"
   ]
  },
  {
   "cell_type": "code",
   "execution_count": 51,
   "metadata": {},
   "outputs": [
    {
     "data": {
      "text/plain": [
       "{'Name': 'Harsh', 'Age': 24, 3: 'Three', 'Default': 23}"
      ]
     },
     "execution_count": 51,
     "metadata": {},
     "output_type": "execute_result"
    }
   ],
   "source": [
    "#update() method will update the element of the original dict.\n",
    "Dict1.update(CopyDict)\n",
    "Dict1"
   ]
  },
  {
   "cell_type": "code",
   "execution_count": 56,
   "metadata": {},
   "outputs": [
    {
     "data": {
      "text/plain": [
       "{'Name': 'Harsh', 'Age': 25, 3: 'Three', 'Default': 23}"
      ]
     },
     "execution_count": 56,
     "metadata": {},
     "output_type": "execute_result"
    }
   ],
   "source": [
    "#update() method will update the existing value for the key\n",
    "Dict1.update({'Age':25})\n",
    "Dict1"
   ]
  },
  {
   "cell_type": "code",
   "execution_count": 57,
   "metadata": {},
   "outputs": [
    {
     "data": {
      "text/plain": [
       "{'Name': 'Harsh', 'Age': 25, 3: 'Three'}"
      ]
     },
     "execution_count": 57,
     "metadata": {},
     "output_type": "execute_result"
    }
   ],
   "source": [
    "#pop() method used to remove a specified element of the given key\n",
    "Dict1.pop('Default')\n",
    "Dict1"
   ]
  },
  {
   "cell_type": "code",
   "execution_count": 62,
   "metadata": {},
   "outputs": [
    {
     "data": {
      "text/plain": [
       "('Age', 25)"
      ]
     },
     "execution_count": 62,
     "metadata": {},
     "output_type": "execute_result"
    }
   ],
   "source": [
    "#popitem() method used to remove an last element and return as tuple\n",
    "Dict1.popitem()"
   ]
  },
  {
   "cell_type": "code",
   "execution_count": 67,
   "metadata": {},
   "outputs": [
    {
     "data": {
      "text/plain": [
       "{}"
      ]
     },
     "execution_count": 67,
     "metadata": {},
     "output_type": "execute_result"
    }
   ],
   "source": [
    "#clear() method removes all element from the dictionary and return empty dict.\n",
    "Dict1.clear()\n",
    "Dict1"
   ]
  },
  {
   "cell_type": "code",
   "execution_count": 70,
   "metadata": {},
   "outputs": [
    {
     "data": {
      "text/plain": [
       "{'Name': 'Harsh', 'Age': 24, 3: 'Three', 'Default': 23}"
      ]
     },
     "execution_count": 70,
     "metadata": {},
     "output_type": "execute_result"
    }
   ],
   "source": [
    "CopyDict #this still have the values from which values were copied"
   ]
  },
  {
   "cell_type": "raw",
   "metadata": {},
   "source": []
  },
  {
   "cell_type": "code",
   "execution_count": null,
   "metadata": {},
   "outputs": [],
   "source": []
  }
 ],
 "metadata": {
  "kernelspec": {
   "display_name": "Python 3",
   "language": "python",
   "name": "python3"
  },
  "language_info": {
   "codemirror_mode": {
    "name": "ipython",
    "version": 3
   },
   "file_extension": ".py",
   "mimetype": "text/x-python",
   "name": "python",
   "nbconvert_exporter": "python",
   "pygments_lexer": "ipython3",
   "version": "3.7.4"
  }
 },
 "nbformat": 4,
 "nbformat_minor": 2
}
