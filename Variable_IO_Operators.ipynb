{
 "cells": [
  {
   "cell_type": "markdown",
   "metadata": {},
   "source": [
    "# We will be going through the Basic, Input/Output and Operators and DataTypes in this Sections"
   ]
  },
  {
   "cell_type": "markdown",
   "metadata": {},
   "source": [
    "### Basic Introduction about Python which needs to know before going a head\n"
   ]
  },
  {
   "cell_type": "markdown",
   "metadata": {},
   "source": [
    "###### Python is a programming language created by Guido van Rossum and first released in 1991.\n",
    "\n",
    "###### Python is an interpreted(executes instruction directly and freely without previously compiling a program into machine-language), high-level and general purpose programming language."
   ]
  },
  {
   "cell_type": "markdown",
   "metadata": {},
   "source": [
    "###### Python is dynamically-typed (execute many common programming behaviours that static programming langauge preform during compilation like C and C++ etc.) and grabage-collected (GC is a form of automatic memory management). Python supports multiple programming paradigms including procedural, object-oriented, and functional programming."
   ]
  },
  {
   "cell_type": "markdown",
   "metadata": {},
   "source": [
    "### Statements, Indentation, Comments, Keywords and Variables:-"
   ]
  },
  {
   "cell_type": "markdown",
   "metadata": {},
   "source": [
    "###### Written code in the specified format(Syntax) to run for a expected output is called Statement or Expessions.\n",
    "Ex: a=(3+6*3-8)"
   ]
  },
  {
   "cell_type": "markdown",
   "metadata": {},
   "source": [
    "###### Indentation is most considerable thing while writting a program in Python like we consider braces {} in C. If you miss the indentation then output of program may be unexpected or wrong, Tab or 4 spaces is used for Indentation. See the following example:"
   ]
  },
  {
   "cell_type": "code",
   "execution_count": 6,
   "metadata": {},
   "outputs": [
    {
     "name": "stdout",
     "output_type": "stream",
     "text": [
      "Lesser\n",
      "print always\n"
     ]
    }
   ],
   "source": [
    "i=5\n",
    "if i<6:\n",
    "    print(\"Lesser\")\n",
    "else:\n",
    "    print(\"Higher\")\n",
    "print(\"print always\")"
   ]
  },
  {
   "cell_type": "markdown",
   "metadata": {},
   "source": [
    "###### Comments are useful information for the reader or another developer to know about the use and mean of the code. Comments do not give any output and Interprtes skip that instruction. # key is used for Single line comment. Multiline comment can be considered with \"\"\"Triple quotes without white space\"\"\", another '''tripple quote for multi line comments'''. Examples are as follows:"
   ]
  },
  {
   "cell_type": "code",
   "execution_count": 7,
   "metadata": {},
   "outputs": [],
   "source": [
    "#This will print nothing. This is Single line Comment"
   ]
  },
  {
   "cell_type": "code",
   "execution_count": 13,
   "metadata": {},
   "outputs": [
    {
     "name": "stdout",
     "output_type": "stream",
     "text": [
      "Harsh Pratap Singh\n"
     ]
    }
   ],
   "source": [
    "\"\"\"This is multi-line comment.\n",
    "we also use tripple quotes for \n",
    "multiline string to print with print function.\"\"\"\n",
    "print(\"Harsh Pratap Singh\")"
   ]
  },
  {
   "cell_type": "markdown",
   "metadata": {},
   "source": [
    "###### Variable is used to store a value or data in it to perform the execution which saves the time to write a long expression further if need to use same data in another statement. In Python, you don't need to define the variable priorly, when you store a value in a variable then it defines datatype to itself. See the example following:"
   ]
  },
  {
   "cell_type": "code",
   "execution_count": 15,
   "metadata": {},
   "outputs": [
    {
     "name": "stdout",
     "output_type": "stream",
     "text": [
      "6\n",
      "9.5\n",
      "Harsh\n"
     ]
    }
   ],
   "source": [
    "a=6\n",
    "b=9.5\n",
    "c='Harsh'\n",
    "print(a)\n",
    "print(b)\n",
    "print(c)"
   ]
  },
  {
   "cell_type": "markdown",
   "metadata": {},
   "source": [
    "###### The stored value in the variable is overwritten when you assign another data into it. For Example see the following:"
   ]
  },
  {
   "cell_type": "code",
   "execution_count": 17,
   "metadata": {},
   "outputs": [
    {
     "name": "stdout",
     "output_type": "stream",
     "text": [
      "75 <class 'int'>\n",
      "Now assign new value to a\n",
      "42.78 <class 'float'>\n"
     ]
    }
   ],
   "source": [
    "a=75\n",
    "print(a,type(a))\n",
    "print(\"Now assign new value to a\")\n",
    "a=42.78\n",
    "print(a,type(a))"
   ]
  },
  {
   "cell_type": "markdown",
   "metadata": {},
   "source": [
    "###### Keywords are the reserved words in any programming language. which convey a special meaning to the interpreter. Keyword can not be used as a variable name. Python also reserves some keyword, which are following:"
   ]
  },
  {
   "cell_type": "raw",
   "metadata": {},
   "source": [
    "False,elif,lambda\n",
    "None, else, nonlocal,\n",
    "True, except, not,\n",
    "and, finally, or,\n",
    "as, for, pass,\n",
    "assert, from, raise,\n",
    "break, global, return,\n",
    "class, if, try,\n",
    "continue, import, while,\n",
    "def, in, with,\n",
    "del, is, yield"
   ]
  },
  {
   "cell_type": "markdown",
   "metadata": {},
   "source": [
    "###### Python has a function is iskeyword() which can be found under inbuilt keyword module, so you need to first write the: \"import keyword\" in your program (without quotation mark). "
   ]
  },
  {
   "cell_type": "code",
   "execution_count": 24,
   "metadata": {},
   "outputs": [
    {
     "name": "stdout",
     "output_type": "stream",
     "text": [
      "False is a keyword\n"
     ]
    }
   ],
   "source": [
    "import keyword\n",
    "\n",
    "i=\"False\"\n",
    "\n",
    "if keyword.iskeyword(i):\n",
    "    print(\"%s is a keyword\"%i)\n",
    "else:\n",
    "    print(\"%s is not a keyword\"%i)"
   ]
  },
  {
   "cell_type": "markdown",
   "metadata": {},
   "source": [
    "###### You can get the list of keyword if you can't remember the all keyword. you need to use \"kwlist()\" function. See the example"
   ]
  },
  {
   "cell_type": "code",
   "execution_count": 30,
   "metadata": {},
   "outputs": [
    {
     "name": "stdout",
     "output_type": "stream",
     "text": [
      "['False', 'None', 'True', 'and', 'as', 'assert', 'async', 'await', 'break', 'class', 'continue', 'def', 'del', 'elif', 'else', 'except', 'finally', 'for', 'from', 'global', 'if', 'import', 'in', 'is', 'lambda', 'nonlocal', 'not', 'or', 'pass', 'raise', 'return', 'try', 'while', 'with', 'yield']\n"
     ]
    }
   ],
   "source": [
    "import keyword\n",
    "print(keyword.kwlist)"
   ]
  },
  {
   "cell_type": "code",
   "execution_count": null,
   "metadata": {},
   "outputs": [],
   "source": [
    "Print function: "
   ]
  }
 ],
 "metadata": {
  "kernelspec": {
   "display_name": "Python 3",
   "language": "python",
   "name": "python3"
  },
  "language_info": {
   "codemirror_mode": {
    "name": "ipython",
    "version": 3
   },
   "file_extension": ".py",
   "mimetype": "text/x-python",
   "name": "python",
   "nbconvert_exporter": "python",
   "pygments_lexer": "ipython3",
   "version": "3.7.4"
  }
 },
 "nbformat": 4,
 "nbformat_minor": 2
}
