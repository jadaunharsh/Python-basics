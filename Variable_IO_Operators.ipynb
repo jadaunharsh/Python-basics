{
 "cells": [
  {
   "cell_type": "markdown",
   "metadata": {},
   "source": [
    "# We will be going through the Basic, Input/Output and Operators and DataTypes in this Sections"
   ]
  },
  {
   "cell_type": "markdown",
   "metadata": {},
   "source": [
    "### Basic Introduction about Python which needs to know before going a head\n"
   ]
  },
  {
   "cell_type": "markdown",
   "metadata": {},
   "source": [
    "###### Python is a programming language created by Guido van Rossum and first released in 1991.\n",
    "\n",
    "###### Python is an interpreted(executes instruction directly and freely without previously compiling a program into machine-language), high-level and general purpose programming language."
   ]
  },
  {
   "cell_type": "markdown",
   "metadata": {},
   "source": [
    "###### Python is dynamically-typed (execute many common programming behaviours that static programming langauge preform during compilation like C and C++ etc.) and grabage-collected (GC is a form of automatic memory management). Python supports multiple programming paradigms including procedural, object-oriented, and functional programming."
   ]
  },
  {
   "cell_type": "markdown",
   "metadata": {},
   "source": [
    "### Statements, Indentation, Comments, Keywords and Variables:-"
   ]
  },
  {
   "cell_type": "markdown",
   "metadata": {},
   "source": [
    "###### Written code in the specified format(Syntax) to run for a expected output is called Statement or Expessions.\n",
    "Ex: a=(3+6*3-8)"
   ]
  },
  {
   "cell_type": "markdown",
   "metadata": {},
   "source": [
    "###### Indentation is most considerable thing while writting a program in Python like we consider braces {} in C. If you miss the indentation then output of program may be unexpected or wrong, Tab or 4 spaces is used for Indentation. See the following example:"
   ]
  },
  {
   "cell_type": "code",
   "execution_count": 6,
   "metadata": {},
   "outputs": [
    {
     "name": "stdout",
     "output_type": "stream",
     "text": [
      "Lesser\n",
      "print always\n"
     ]
    }
   ],
   "source": [
    "i=5\n",
    "if i<6:\n",
    "    print(\"Lesser\")\n",
    "else:\n",
    "    print(\"Higher\")\n",
    "print(\"print always\")"
   ]
  },
  {
   "cell_type": "markdown",
   "metadata": {},
   "source": [
    "###### Comments are useful information for the reader or another developer to know about the use and mean of the code. Comments do not give any output and Interprtes skip that instruction. # key is used for Single line comment. Multiline comment can be considered with \"\"\"Triple quotes without white space\"\"\", another '''tripple quote for multi line comments'''. Examples are as follows:"
   ]
  },
  {
   "cell_type": "code",
   "execution_count": 7,
   "metadata": {},
   "outputs": [],
   "source": [
    "#This will print nothing. This is Single line Comment"
   ]
  },
  {
   "cell_type": "code",
   "execution_count": 13,
   "metadata": {},
   "outputs": [
    {
     "name": "stdout",
     "output_type": "stream",
     "text": [
      "Harsh Pratap Singh\n"
     ]
    }
   ],
   "source": [
    "\"\"\"This is multi-line comment.\n",
    "we also use tripple quotes for \n",
    "multiline string to print with print function.\"\"\"\n",
    "print(\"Harsh Pratap Singh\")"
   ]
  },
  {
   "cell_type": "markdown",
   "metadata": {},
   "source": [
    "###### Variable is used to store a value or data in it to perform the execution which saves the time to write a long expression further if need to use same data in another statement. In Python, you don't need to define the variable priorly, when you store a value in a variable then it defines datatype to itself. See the example following:"
   ]
  },
  {
   "cell_type": "code",
   "execution_count": 15,
   "metadata": {},
   "outputs": [
    {
     "name": "stdout",
     "output_type": "stream",
     "text": [
      "6\n",
      "9.5\n",
      "Harsh\n"
     ]
    }
   ],
   "source": [
    "a=6\n",
    "b=9.5\n",
    "c='Harsh'\n",
    "print(a)\n",
    "print(b)\n",
    "print(c)"
   ]
  },
  {
   "cell_type": "markdown",
   "metadata": {},
   "source": [
    "###### The stored value in the variable is overwritten when you assign another data into it. For Example see the following:"
   ]
  },
  {
   "cell_type": "code",
   "execution_count": 17,
   "metadata": {},
   "outputs": [
    {
     "name": "stdout",
     "output_type": "stream",
     "text": [
      "75 <class 'int'>\n",
      "Now assign new value to a\n",
      "42.78 <class 'float'>\n"
     ]
    }
   ],
   "source": [
    "a=75\n",
    "print(a,type(a))\n",
    "print(\"Now assign new value to a\")\n",
    "a=42.78\n",
    "print(a,type(a))"
   ]
  },
  {
   "cell_type": "markdown",
   "metadata": {},
   "source": [
    "###### Keywords are the reserved words in any programming language. which convey a special meaning to the interpreter. Keyword can not be used as a variable name. Python also reserves some keyword, which are following:"
   ]
  },
  {
   "cell_type": "raw",
   "metadata": {},
   "source": [
    "False,elif,lambda\n",
    "None, else, nonlocal,\n",
    "True, except, not,\n",
    "and, finally, or,\n",
    "as, for, pass,\n",
    "assert, from, raise,\n",
    "break, global, return,\n",
    "class, if, try,\n",
    "continue, import, while,\n",
    "def, in, with,\n",
    "del, is, yield"
   ]
  },
  {
   "cell_type": "markdown",
   "metadata": {},
   "source": [
    "###### Python has a function is iskeyword() which can be found under inbuilt keyword module, so you need to first write the: \"import keyword\" in your program (without quotation mark). "
   ]
  },
  {
   "cell_type": "code",
   "execution_count": 24,
   "metadata": {},
   "outputs": [
    {
     "name": "stdout",
     "output_type": "stream",
     "text": [
      "False is a keyword\n"
     ]
    }
   ],
   "source": [
    "import keyword\n",
    "\n",
    "i=\"False\"\n",
    "\n",
    "if keyword.iskeyword(i):\n",
    "    print(\"%s is a keyword\"%i)\n",
    "else:\n",
    "    print(\"%s is not a keyword\"%i)"
   ]
  },
  {
   "cell_type": "markdown",
   "metadata": {},
   "source": [
    "###### You can get the list of keyword if you can't remember the all keyword. you need to use \"kwlist()\" function. See the example"
   ]
  },
  {
   "cell_type": "code",
   "execution_count": 30,
   "metadata": {},
   "outputs": [
    {
     "name": "stdout",
     "output_type": "stream",
     "text": [
      "['False', 'None', 'True', 'and', 'as', 'assert', 'async', 'await', 'break', 'class', 'continue', 'def', 'del', 'elif', 'else', 'except', 'finally', 'for', 'from', 'global', 'if', 'import', 'in', 'is', 'lambda', 'nonlocal', 'not', 'or', 'pass', 'raise', 'return', 'try', 'while', 'with', 'yield']\n"
     ]
    }
   ],
   "source": [
    "import keyword\n",
    "print(keyword.kwlist)"
   ]
  },
  {
   "cell_type": "markdown",
   "metadata": {},
   "source": [
    "#### Print function: print() is function used to produce the output, it returns the string output to the screen. Syntax of print() function is following:"
   ]
  },
  {
   "cell_type": "raw",
   "metadata": {},
   "source": [
    "Syntax:   print(value(s), sep=' ', end = '\\n')\n",
    "value(s): this will get convert to string before display over the screen, place the input whatever you want on screen.\n",
    "sep='separator':  (optional)specifity the separator using that you want to separate like ',','\\t',etc., default is ''.\n",
    "end='end':    (optional)specify what to print at the end. default is '\\n'\n",
    "\n",
    "\n",
    "Example is following:"
   ]
  },
  {
   "cell_type": "code",
   "execution_count": 56,
   "metadata": {},
   "outputs": [
    {
     "name": "stdout",
     "output_type": "stream",
     "text": [
      "Harsh Pratap Singh\n",
      "Harsh\tPratap\tSingh\n",
      "Harsh-Pratap-Singh\n",
      "HarshPratapSingh@"
     ]
    }
   ],
   "source": [
    "print(\"Harsh Pratap Singh\")\n",
    "print(\"Harsh\",\"Pratap\",\"Singh\",sep='\\t')   #sep='' used to combine the sequence of string.\n",
    "print(\"Harsh\",\"Pratap\",\"Singh\",sep='-')    #sep='-' used to connect string with - sign.\n",
    "print(\"Harsh\",\"Pratap\",\"Singh\",sep='',end='@')"
   ]
  },
  {
   "cell_type": "raw",
   "metadata": {},
   "source": [
    "Python has predefined format if you use print(a_variable) then it will go to next line automatically, to come up with new line display with another print function you can use: end='slicer'. Print with new line and without newline :"
   ]
  },
  {
   "cell_type": "code",
   "execution_count": 54,
   "metadata": {},
   "outputs": [
    {
     "name": "stdout",
     "output_type": "stream",
     "text": [
      "Harsh Pratap Singh\n",
      "is creating a lecture to newbie.\n",
      "Harsh Pratap Singh is creating a lecture to newbie.\n",
      "\n",
      "See the difference in both sentence how they are printed.\n"
     ]
    }
   ],
   "source": [
    "print(\"Harsh Pratap Singh\")        #with new line\n",
    "print(\"is creating a lecture to newbie.\")\n",
    "\n",
    "\n",
    "print(\"Harsh Pratap Singh\", end=\" \")        #without new line, it ends with space\n",
    "print(\"is creating a lecture to newbie.\")\n",
    "\n",
    "print(\"\\nSee the difference in both sentence how they are printed.\")"
   ]
  },
  {
   "cell_type": "markdown",
   "metadata": {},
   "source": [
    "#### Print Formatting:  We can use several way to display the output, we can control the formatting of output than simple printing values."
   ]
  },
  {
   "cell_type": "markdown",
   "metadata": {},
   "source": [
    "##### % Operator can also be used for string formatting. Examples are following for % module operator:"
   ]
  },
  {
   "cell_type": "code",
   "execution_count": 62,
   "metadata": {},
   "outputs": [
    {
     "name": "stdout",
     "output_type": "stream",
     "text": [
      "Geeks :  1, Portal :  5.33\n",
      "Harsh is 24 years old.\n",
      "We are printing Octal values:      070\n",
      "We are printing Exponential values:   3.561E+02\n"
     ]
    }
   ],
   "source": [
    "#Print integer and float values:\n",
    "print(\"Geeks : %2d, Portal : %5.2f\"%(1,5.335))\n",
    "\n",
    "#If you are using single value for formatting then you don'y need to write values in tuple()\n",
    "print(\"Harsh is %d years old.\"%24)\n",
    "\n",
    "#printing octal values:\n",
    "print(\"We are printing Octal values:  %7.3o\"%56)\n",
    "\n",
    "#printing exponential values:\n",
    "print(\"We are printing Exponential values:  %10.3E\"%(356.08977))"
   ]
  },
  {
   "cell_type": "markdown",
   "metadata": {},
   "source": [
    "##### format() method: To use format() method we need to add {} mark, explained following through example, read very carefully to understand this. This is very important to display your data in a format:"
   ]
  },
  {
   "cell_type": "code",
   "execution_count": 19,
   "metadata": {},
   "outputs": [
    {
     "name": "stdout",
     "output_type": "stream",
     "text": [
      "Hey, Harsh Pratap Singh, This is your System\n",
      "Hey, Harsh Pratap Singh, you are working in Sierra CP, this is small company.\n",
      "Hey, Sierra CP, you have Engineer Harsh Pratap Singh, CP is small company.\n",
      "My Name is Harsh Pratap Singh and i'm 22 years old. I'm new to Python.\n",
      "Some Integer value: 98, and float values are: 45.210000\n",
      "This is Integer represent by a:  98 and another is float value represent by b: 32.5300\n"
     ]
    }
   ],
   "source": [
    "#print using format() method without numbering define\n",
    "print(\"Hey, {}, This is your {}\".format(\"Harsh Pratap Singh\",\"System\"))\n",
    "\n",
    "#print using format method with numbering or by position specifying.\n",
    "print(\"Hey, {0}, you are working in {1}, this is {2} company.\".format(\"Harsh Pratap Singh\",\"Sierra CP\",\"small\"))\n",
    "\n",
    "#print using format method with numbering or by position specifying another example.\n",
    "print(\"Hey, {1}, you have Engineer {0}, CP is {2} company.\".format(\"Harsh Pratap Singh\",\"Sierra CP\",\"small\"))\n",
    "\n",
    "#Combining positional and keywod argument with format\n",
    "print(\"My Name is {1} and i'm {0} years old. I'm new to {other}.\".format(\"22\",\"Harsh Pratap Singh\",other=\"Python\"))\n",
    "\n",
    "#Changing positional arguments, please try to learn with changing values and text.\n",
    "print(\"Some Integer value: {1:2d}, and float values are: {0:2.6f}\".format(45.21,98))\n",
    "\n",
    "#Using name, verify the values and print with format.\n",
    "print(\"This is Integer represent by a: {a:3d} and another is float value represent by b: {b:3.4f}\".format(a=98,b=32.53))"
   ]
  },
  {
   "cell_type": "markdown",
   "metadata": {},
   "source": [
    "##### String method also used to print the data in a format, str.ljust(), str.rjust(), str.center()   , examples are folloing:"
   ]
  },
  {
   "cell_type": "code",
   "execution_count": 41,
   "metadata": {},
   "outputs": [
    {
     "name": "stdout",
     "output_type": "stream",
     "text": [
      "\n",
      "Display this string in centre:\n",
      "################Harsh Pratap Singh################\n",
      "\n",
      "Display String as Left aligned:\n",
      "Harsh Pratap Singh********************************\n",
      "\n",
      "Display String as right alighned:\n",
      "$$$$$$$$$$$$$$$$$$$$$$$$$$$$$$$$Harsh Pratap Singh\n",
      "\n",
      "I hope you could understand these functions properly.\n"
     ]
    }
   ],
   "source": [
    "name=\"Harsh Pratap Singh\"\n",
    "\n",
    "print(\"\\nDisplay this string in centre:\")\n",
    "print(name.center(50,'#'))  #this will take only one character under '' and number as first argument for how many times you want to print\n",
    "\n",
    "print(\"\\nDisplay String as Left aligned:\")\n",
    "print(name.ljust(50,'*'))     #using print function to show all output otherwise it will return only the last output\n",
    "\n",
    "print(\"\\nDisplay String as right alighned:\")\n",
    "print(name.rjust(50,'$'))     \n",
    "\n",
    "print(\"\\nI hope you could understand these functions properly.\")"
   ]
  },
  {
   "cell_type": "markdown",
   "metadata": {},
   "source": [
    "### Input: we can ask to user to give input to use further in program and able to perform a task using that input. input() function takes argument as a string, see the example following:"
   ]
  },
  {
   "cell_type": "code",
   "execution_count": 43,
   "metadata": {},
   "outputs": [
    {
     "name": "stdout",
     "output_type": "stream",
     "text": [
      "Enter your Name:Harsh Pratap Singh\n"
     ]
    },
    {
     "data": {
      "text/plain": [
       "'Harsh Pratap Singh'"
      ]
     },
     "execution_count": 43,
     "metadata": {},
     "output_type": "execute_result"
    }
   ],
   "source": [
    "input(\"Enter your Name:\") #Popup(textbox) will raise and ask for the input"
   ]
  },
  {
   "cell_type": "markdown",
   "metadata": {},
   "source": [
    "###### We can store this input into a variabloe or also can convert the type of this input using type conversion, we will look type after this task:"
   ]
  },
  {
   "cell_type": "code",
   "execution_count": 2,
   "metadata": {},
   "outputs": [
    {
     "name": "stdout",
     "output_type": "stream",
     "text": [
      "Enter your name: Harsh Pratap Singh\n",
      "What's your age? 24\n",
      "Hey, Harsh Pratap Singh, you are 24 years old\n"
     ]
    }
   ],
   "source": [
    "a=input(\"Enter your name: \")\n",
    "b=int(input(\"What's your age? \"))   #input takes string and we convert it to int this\n",
    "print(\"Hey, %s, you are %d years old\"%(a,b))"
   ]
  },
  {
   "cell_type": "markdown",
   "metadata": {},
   "source": [
    "##### Taking multiple inputs from the user, so there are 2 methods for this: 1. split() method   2. List Comprehension. Examples are following :"
   ]
  },
  {
   "cell_type": "code",
   "execution_count": 15,
   "metadata": {},
   "outputs": [
    {
     "name": "stdout",
     "output_type": "stream",
     "text": [
      "Enter your name and sirname:Harsh,Pratap\n",
      "Hey Harsh Pratap how are you?\n",
      "\n",
      "Enter multiple values as Integer:23,234,34,5345,6,54,5,43\n",
      "List of given numbers:  [23, 234, 34, 5345, 6, 54, 5, 43]\n",
      "\n",
      "Enter Two values using comma: 45,23\n",
      "Your x value is 45 and y value is 23\n",
      "\n",
      "Enter multiple values: 43,56,5467,68,4,3,5,245,23\n",
      "Entered values of List are:  [43, 56, 5467, 68, 4, 3, 5, 245, 23]\n"
     ]
    }
   ],
   "source": [
    "#Python program multiple input using split() function.\n",
    "x,y=input(\"Enter your name and sirname:\").split(',')   #Enter 2 values using ','\n",
    "print(\"Hey %s %s how are you?\"%(x,y))\n",
    "\n",
    "#Taking multiple input using at a time and type casting using list() function.\n",
    "x=list(map(int,input(\"\\nEnter multiple values as Integer:\").split(','))) #We will discuss this map and list function later.\n",
    "print(\"List of given numbers: \",x)\n",
    "\n",
    "#multiple input using list comprehension.\n",
    "x,y=[int(x) for x in input(\"\\nEnter Two values using comma: \").split(',')]   #2 integer values input, where data type is defined initially.\n",
    "print(\"Your x value is %d and y value is %d\"%(x,y))\n",
    "\n",
    "#Multiple input at a time using list comprehension\n",
    "x=[int(x) for x in input(\"\\nEnter multiple values: \").split(',')]\n",
    "print(\"Entered values of List are: \",x)"
   ]
  },
  {
   "cell_type": "markdown",
   "metadata": {},
   "source": [
    "##### We can convert the type of input to another type, input() method converts the values to string, so we can convert data type, while getting input, This is called the type casting. Following are some examples:"
   ]
  },
  {
   "cell_type": "code",
   "execution_count": 17,
   "metadata": {},
   "outputs": [
    {
     "name": "stdout",
     "output_type": "stream",
     "text": [
      "Enter any thing: lkskndfio34jbeuib3n489ht\n",
      "lkskndfio34jbeuib3n489ht    <class 'str'>\n",
      "\n",
      "Enter the Integer value: 43532\n",
      "43532    <class 'int'>\n",
      "\n",
      "Enter the float value: 234.24\n",
      "234.24    <class 'float'>\n",
      "\n",
      "Integer value is converted to string:  43532     <class 'str'>\n"
     ]
    }
   ],
   "source": [
    "#Input automatically converts to string\n",
    "a=input(\"Enter any thing: \")\n",
    "print(a,'  ',type(a))\n",
    "\n",
    "#convert the input to use as integer:\n",
    "b=int(input(\"\\nEnter the Integer value: \"))\n",
    "print(b,'  ',type(b))\n",
    "\n",
    "#Convert the input to use as float:\n",
    "c=float(input(\"\\nEnter the float value: \"))\n",
    "print(c,'  ',type(c))\n",
    "\n",
    "#All type of input can be convert to string:\n",
    "d=str(b)\n",
    "print(\"\\nInteger value is converted to string: \",d,'   ',type(d))"
   ]
  },
  {
   "cell_type": "markdown",
   "metadata": {},
   "source": [
    "#### map() function: It returns the object of a function in which values are iterable. the returned map() object can be pass to list() or tuple() to create List or Tuple respectively. Let's have a look with examples:"
   ]
  },
  {
   "cell_type": "code",
   "execution_count": 2,
   "metadata": {},
   "outputs": [
    {
     "name": "stdout",
     "output_type": "stream",
     "text": [
      "\n",
      "Enter multiple values as Integer:435,45,435,435,2345,56,677,658,45\n",
      "List of given numbers:  ['435', '45', '435', '435', '2345', '56', '677', '658', '45']\n",
      "\n",
      "Applied map function on x:  <map object at 0x0000000005800348>\n",
      "\n",
      "Applied tuple function to extract the inputs:  (435, 45, 435, 435, 2345, 56, 677, 658, 45)\n",
      "\n",
      "Enter multiple values:53454 34534 7 45 54 453 3 3 323 546 7\n"
     ]
    }
   ],
   "source": [
    "x=input(\"\\nEnter multiple values as Integer:\").split(',')\n",
    "print(\"List of given numbers: \",x)\n",
    "\n",
    "y=map(int,x)\n",
    "print(\"\\nApplied map function on x: \",y)   #returns an object of the taken inputs\n",
    "\n",
    "z=tuple(y)\n",
    "print(\"\\nApplied tuple function to extract the inputs: \",z)   #converts the map object to tuple\n",
    "\n",
    "#Now we write all above in one line, but here split function is changed. we used space(' ') instead of (',')\n",
    "a=list(map(int,input(\"\\nEnter multiple values:\").split(' ')))"
   ]
  },
  {
   "cell_type": "markdown",
   "metadata": {},
   "source": [
    "### Operators"
   ]
  },
  {
   "cell_type": "markdown",
   "metadata": {},
   "source": [
    "#### Operators are used to perform operations with operands(values or variables). There are many type of operators: "
   ]
  },
  {
   "cell_type": "raw",
   "metadata": {},
   "source": [
    "1.Arithmetic Operations: Used to perform mathematical operations.\n",
    "                        + addition                   a+b\n",
    "                        - subtraction                a-b\n",
    "                        * multiplication             a*b\n",
    "                        / division(float)            a/b\n",
    "                        //division(floor)            a//b\n",
    "                        % modulus                    a%b\n",
    "                     \n",
    "2.Relational Operators: It compares the values and returns True or False in result.\n",
    "                        >    greater than            a>b\n",
    "                        <    less than               a<b\n",
    "                        ==   equal to                a==b\n",
    "                        !=   not equal to            a!=b\n",
    "                        >=   greater than or equal to   a>=b\n",
    "                        <=   less than or equal to      a<=b\n",
    "                        \n",
    "3.Logical Operators: performs logical operations.\n",
    "                        and  Logical AND             a and b\n",
    "                        or   Logical OR              a or b\n",
    "                        not  Logical NOT             a not b\n",
    "                        \n",
    "4.Bitwise Operators: acts on bit and perform bit by bit operations\n",
    "                        &    Bitwise AND              a&b\n",
    "                        |    Bitwise OR               a|b\n",
    "                        ~    Bitwise NOT              ~a\n",
    "                        ^    Bitwise XOR              a^b\n",
    "                        >>   Bitwise right shift      x>>\n",
    "                        <<   Bitwise left shift       x<<\n",
    "                        \n",
    "5.Assignment Operators: we use = sign as an assignment operator, and this also can be used with other operator with putting back of that operator and that is also called inplace operator. example: a=a+b; we can write this as a+=b\n",
    "                        \n",
    "6.Special Operators: Some Special types of operators are: \n",
    "              1.Identity Operator(\"is\",\"is not\") : both are used to check if two values are located on the same part of memory.\n",
    "              2.Membership Operators(\"in\",\"not in\"): used to test whether a value or variable is in a sequence."
   ]
  },
  {
   "cell_type": "code",
   "execution_count": null,
   "metadata": {},
   "outputs": [],
   "source": []
  },
  {
   "cell_type": "code",
   "execution_count": 4,
   "metadata": {},
   "outputs": [
    {
     "data": {
      "text/plain": [
       "7"
      ]
     },
     "execution_count": 4,
     "metadata": {},
     "output_type": "execute_result"
    }
   ],
   "source": [
    "a,b=3,4\n",
    "a+=b\n",
    "a"
   ]
  },
  {
   "cell_type": "code",
   "execution_count": null,
   "metadata": {},
   "outputs": [],
   "source": []
  }
 ],
 "metadata": {
  "kernelspec": {
   "display_name": "Python 3",
   "language": "python",
   "name": "python3"
  }
 },
 "nbformat": 4,
 "nbformat_minor": 2
}
